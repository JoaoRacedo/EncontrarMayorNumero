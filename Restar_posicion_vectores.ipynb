{
  "nbformat": 4,
  "nbformat_minor": 0,
  "metadata": {
    "colab": {
      "name": "Restar_posicion_vectores.ipynb",
      "provenance": [],
      "collapsed_sections": [],
      "authorship_tag": "ABX9TyNtiSR+cPwtM+L98dqVjbdg"
    },
    "kernelspec": {
      "name": "python3",
      "display_name": "Python 3"
    },
    "language_info": {
      "name": "python"
    }
  },
  "cells": [
    {
      "cell_type": "code",
      "metadata": {
        "colab": {
          "base_uri": "https://localhost:8080/"
        },
        "id": "XQv_XHNG408n",
        "outputId": "02ad7b58-f13d-4652-e10e-6ba6c387f047"
      },
      "source": [
        "vec = [200,100,50]\n",
        "vec_copy = vec.copy()\n",
        "for i in range(2):\n",
        "    entrada = input(\"Digite # y valor \").split()\n",
        "    for j in range(len(entrada)):\n",
        "        entrada[j] = int(entrada[j])\n",
        "    vec_copy[entrada[0]-1] = vec_copy[entrada[0]-1] - entrada[1]\n",
        "\n",
        "print(vec)\n",
        "print(vec_copy)"
      ],
      "execution_count": 1,
      "outputs": [
        {
          "output_type": "stream",
          "text": [
            "Digite # y valor 1 40\n",
            "Digite # y valor 2 30\n",
            "[200, 100, 50]\n",
            "[160, 70, 50]\n"
          ],
          "name": "stdout"
        }
      ]
    }
  ]
}