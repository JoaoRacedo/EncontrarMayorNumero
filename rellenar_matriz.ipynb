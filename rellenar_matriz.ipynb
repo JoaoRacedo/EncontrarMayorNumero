{
  "nbformat": 4,
  "nbformat_minor": 0,
  "metadata": {
    "colab": {
      "name": "rellenar_matriz.ipynb",
      "provenance": [],
      "collapsed_sections": [],
      "authorship_tag": "ABX9TyOxP7oVyZx2quLGwuxAUNik"
    },
    "kernelspec": {
      "name": "python3",
      "display_name": "Python 3"
    },
    "language_info": {
      "name": "python"
    }
  },
  "cells": [
    {
      "cell_type": "code",
      "metadata": {
        "id": "TcpTAORfEz3p"
      },
      "source": [
        "n = 3 # numero de filas\n",
        "m = 3 # numero de columnas\n",
        "\n",
        "#      j\n",
        "#      |\n",
        "#      0   1\n",
        "#      |   |\n",
        "# 0 - 0,0 0,1    <- i\n",
        "# 1 - 1,0 1,1\n",
        "Matrix = [] # matrix resultante\n",
        "# for i in range(n):\n",
        "#     fila_i = [] # cada fila independiente\n",
        "#     for j in range(m):\n",
        "#         valor_i_j = int(input(\"Digite posicion \"+str(i)+\",\"+str(j)))\n",
        "#         fila_i.append(valor_i_j)\n",
        "#     Matrix.append(fila_i)\n",
        "Matrix = [[1,2,3],[4,5,6],[7,8,9]]\n",
        "print(\"###########\")\n",
        "print(\"Fila por fila\")\n",
        "for i in range(n):\n",
        "    print(Matrix[i])\n",
        "print(\"###########\")\n",
        "print(\"Valor por valor\")\n",
        "for i in range(n):\n",
        "    for j in range(m):\n",
        "        print(Matrix[i][j], end=\" \")\n",
        "    print(\" \")\n",
        "print(\"###########\")\n",
        "print(\"Lista por lista\")\n",
        "for i in Matrix:\n",
        "    print(i)"
      ],
      "execution_count": null,
      "outputs": []
    }
  ]
}