{
  "nbformat": 4,
  "nbformat_minor": 0,
  "metadata": {
    "colab": {
      "name": "playing_lists2.ipynb",
      "provenance": [],
      "collapsed_sections": [],
      "authorship_tag": "ABX9TyMq19bGNhVpPTYWikWmEjL1"
    },
    "kernelspec": {
      "name": "python3",
      "display_name": "Python 3"
    },
    "language_info": {
      "name": "python"
    }
  },
  "cells": [
    {
      "cell_type": "code",
      "metadata": {
        "id": "RUQIAYck7-ih"
      },
      "source": [
        "# # i = 0\n",
        "# # while (i<10):\n",
        "# #     j = 0\n",
        "# #     while (j<5):\n",
        "# #         print(i*j)\n",
        "# #         j = j+1\n",
        "# #     i = i + 1\n",
        "\n",
        "# # for i in range(10):\n",
        "# #     for j in range(5):\n",
        "# #         print(i*j)\n",
        "\n",
        "# #precarga de una matriz\n",
        "# f=int(input(\"Ingrese el numero de filas: \"))\n",
        "# c=int(input(\"Ingrese el numero de columnas: \"))\n",
        "# #m = [\" \" for i in range(c)]\n",
        "# m=[[\" \" for j in range(c)] for i in range(f)]\n",
        "# print(m)\n",
        "# m = []\n",
        "# for i in range(f):\n",
        "#     fila = []\n",
        "#     for j in range(c):\n",
        "#         fila.append(\" \")\n",
        "#     m.append(fila)\n",
        "# print(m)\n",
        "\n",
        "\n",
        "#A=[10,20,30,40]\n",
        "#B=[50,60,70,80]\n",
        "#print(list(x for y in zip(A,B) for x in y))\n",
        "# C = A + B\n",
        "# C[::2] = A\n",
        "# C[1::2] = B\n",
        "# print(C)\n",
        "A=[\"10\",\"20\",\"30\",\"40\"]\n",
        "lista = [int(valor) for valor in A]\n",
        "print(lista)\n",
        "\n",
        "lista=[0 for z in range(3)]\n",
        "lista = [0]*3\n"
      ],
      "execution_count": null,
      "outputs": []
    }
  ]
}