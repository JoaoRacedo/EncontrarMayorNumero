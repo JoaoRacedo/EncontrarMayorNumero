{
  "nbformat": 4,
  "nbformat_minor": 0,
  "metadata": {
    "colab": {
      "name": "EncontrarMayorNumero.ipynb",
      "provenance": [],
      "collapsed_sections": [],
      "authorship_tag": "ABX9TyMmgG/guJ7Vr1KLhwcPyo2p"
    },
    "kernelspec": {
      "name": "python3",
      "display_name": "Python 3"
    },
    "language_info": {
      "name": "python"
    }
  },
  "cells": [
    {
      "cell_type": "code",
      "metadata": {
        "id": "ydvk6CU7rkVY"
      },
      "source": [
        "numero = 4987\n",
        "maximo_final = numero\n",
        "numero_temp = numero\n",
        "numero_nuevo = \"\"\n",
        "if (numero <= 0):\n",
        "    print(\"Ingrese un numero mayor a 0\")\n",
        "else:\n",
        "    print(\"El numero inicialmente es\", numero)\n",
        "    while (numero != 0):\n",
        "        digito = numero % 10 # encontramos el digito menos significativos de numero\n",
        "        maximo_numero = digito # va a llevar memoria de cual es el MAX digito hasta el momento\n",
        "        numero_temp = numero // 10 # asignamos a numero_temp el numero sin el digito menos significativo\n",
        "        posicion = 0\n",
        "        while (numero_temp != 0):\n",
        "            digito_temp = numero_temp % 10\n",
        "            numero_temp = numero_temp // 10\n",
        "            if (digito_temp > maximo_numero):\n",
        "                posicion = posicion + 1\n",
        "                maximo_numero = digito_temp\n",
        "        numero_nuevo = numero_nuevo + str(maximo_numero)\n",
        "        if (posicion == 0):\n",
        "            numero = numero // 10\n",
        "        else:\n",
        "            numeros_antes = str(numero % 10**posicion)\n",
        "            numeros_despues = str(numero // 10**(posicion+1))\n",
        "            if (numeros_despues == \"0\"):\n",
        "                numeros_despues = \"\"\n",
        "            numero = int(numeros_despues+numeros_antes)\n",
        "    print(\"El nuevo numero es\", numero_nuevo)"
      ],
      "execution_count": null,
      "outputs": []
    }
  ]
}