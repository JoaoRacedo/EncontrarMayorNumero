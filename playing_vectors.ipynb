{
  "nbformat": 4,
  "nbformat_minor": 0,
  "metadata": {
    "colab": {
      "name": "playing_vectors.ipynb",
      "provenance": [],
      "collapsed_sections": [],
      "authorship_tag": "ABX9TyMMH/Nv23he6UmJvvCpupxi"
    },
    "kernelspec": {
      "name": "python3",
      "display_name": "Python 3"
    },
    "language_info": {
      "name": "python"
    }
  },
  "cells": [
    {
      "cell_type": "code",
      "metadata": {
        "id": "p-hUhC_cAdv6"
      },
      "source": [
        "def function1(a,b):\n",
        "    for i in range(len(a)):\n",
        "        a[i] = int(a[i])\n",
        "    for j in range(len(b)):\n",
        "        b[j] = int(b[j])\n",
        "    return [a,b]\n",
        "\n",
        "vec1 = [\"1\",\"2\",\"3\"]\n",
        "vec2 = [\"4\",\"5\",\"6\"]\n",
        "vec1, vec2 = function1(vec1 ,vec2)\n",
        "print(vec1)\n",
        "print(vec2)\n",
        "lista = list()\n",
        "lista1 = list()\n",
        "n, m = input().split()\n",
        "print(lista,lista1)\n",
        "lista.append(int(n))\n",
        "lista1.append(int(m))\n",
        "print(lista,lista1)\n",
        "n, m = input().split()\n",
        "lista.append(int(n))\n",
        "lista1.append(int(m))\n",
        "print(lista,lista1)"
      ],
      "execution_count": null,
      "outputs": []
    }
  ]
}