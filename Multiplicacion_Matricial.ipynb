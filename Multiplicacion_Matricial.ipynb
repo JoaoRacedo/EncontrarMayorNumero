{
  "nbformat": 4,
  "nbformat_minor": 0,
  "metadata": {
    "colab": {
      "name": "Multiplicacion_Matricial.ipynb",
      "provenance": [],
      "collapsed_sections": [],
      "authorship_tag": "ABX9TyPuRz51HAyeF7F5tTvtW3So"
    },
    "kernelspec": {
      "name": "python3",
      "display_name": "Python 3"
    },
    "language_info": {
      "name": "python"
    }
  },
  "cells": [
    {
      "cell_type": "code",
      "metadata": {
        "colab": {
          "base_uri": "https://localhost:8080/"
        },
        "id": "BXma88wxeNlr",
        "outputId": "9b5d91d5-9d80-4991-80ee-6af836f821cb"
      },
      "source": [
        "# def Function1(lista_1, valor):\n",
        "#     # lista_1 <- lista\n",
        "#     # valor <- 3\n",
        "#     lista_1.append(valor)\n",
        "#     return lista_1\n",
        "\n",
        "\n",
        "# lista = [1,True,2.3,\"Pq\"]\n",
        "# print(lista)\n",
        "# lista = Function1(lista, 3)\n",
        "# print(lista)\n",
        "# lista = Function1(lista, \"HOLa\")\n",
        "# print(lista)\n",
        "\n",
        "def ImprimirMatrix(M):\n",
        "    for i in range(len(M)):\n",
        "        for j in range(len(M[0])):\n",
        "            print(M[i][j], end = ' ')\n",
        "        print(\" \")\n",
        "\n",
        "matrix = [[1,2],[4,5]]\n",
        "#      0 1 2\n",
        "#      | | |\n",
        "# 0 -  1 2 3\n",
        "# 1 -  4 5 6\n",
        "# matrix[0][0] -> 1\n",
        "print(matrix)\n",
        "print(\"# filas\",len(matrix))\n",
        "print(\"# columnas\",len(matrix[0]))\n",
        "print(\"Matrix original\")\n",
        "ImprimirMatrix(matrix)\n",
        "print(\"Multiplicacion matrices\")\n",
        "Resultante = []\n",
        "for i in range(len(matrix)): # matrix 1 rows\n",
        "    temp_lista = []\n",
        "    for j in range(len(matrix[0])): # matrix 2 columns\n",
        "        suma = 0\n",
        "        for k in range(len(matrix[0])): # column elements of matrix 1 or row elements of matrix 2\n",
        "            suma = suma + matrix[i][k]*matrix[k][j]\n",
        "        temp_lista.append(suma)\n",
        "    Resultante.append(temp_lista)\n",
        "\n",
        "print(\"Matrix resultante\")\n",
        "ImprimirMatrix(Resultante)"
      ],
      "execution_count": 1,
      "outputs": [
        {
          "output_type": "stream",
          "text": [
            "[[1, 2], [4, 5]]\n",
            "# filas 2\n",
            "# columnas 2\n",
            "Matrix original\n",
            "1 2  \n",
            "4 5  \n",
            "Multiplicacion matrices\n",
            "Matrix resultante\n",
            "9 12  \n",
            "24 33  \n"
          ],
          "name": "stdout"
        }
      ]
    }
  ]
}