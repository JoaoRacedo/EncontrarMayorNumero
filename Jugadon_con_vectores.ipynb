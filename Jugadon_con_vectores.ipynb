{
  "nbformat": 4,
  "nbformat_minor": 0,
  "metadata": {
    "colab": {
      "name": "Jugadon_con_vectores.ipynb",
      "provenance": [],
      "collapsed_sections": [],
      "authorship_tag": "ABX9TyNyPheCuMXaHM+YNYJHBIBU"
    },
    "kernelspec": {
      "name": "python3",
      "display_name": "Python 3"
    },
    "language_info": {
      "name": "python"
    }
  },
  "cells": [
    {
      "cell_type": "code",
      "metadata": {
        "colab": {
          "base_uri": "https://localhost:8080/"
        },
        "id": "Y4OCkWfaMbYG",
        "outputId": "67bc7f37-1215-4c6a-cac6-9801094a86b5"
      },
      "source": [
        "# vec = [val0,val1,...,valn_1]\n",
        "#       [ 0  ,  1 ,....,n-1]\n",
        "# vec[0]\n",
        "\n",
        "vec = input(\"Digite valores \").split(\" \")\n",
        "vec_respuesta = []\n",
        "suma = 0\n",
        "for i in range(len(vec)):\n",
        "    #print(\"{} - {}\".format(i,vec[i]))\n",
        "    #print(f\"{i} - {vec[i]}\")\n",
        "    vec[i] = float(vec[i])\n",
        "    suma = suma + vec[i]\n",
        "print(vec)\n",
        "print(suma)\n",
        "print(\"{:.2f}\".format(sum(vec)/len(vec)))\n",
        "print(vec_respuesta)\n",
        "vec_respuesta.append(sum(vec)/len(vec))\n",
        "print(vec_respuesta)\n",
        "vec_respuesta.append(1)\n",
        "print(vec_respuesta)"
      ],
      "execution_count": 1,
      "outputs": [
        {
          "output_type": "stream",
          "text": [
            "Digite valores 5.64 3.82 5.3 6.16\n",
            "[5.64, 3.82, 5.3, 6.16]\n",
            "20.919999999999998\n",
            "5.23\n",
            "[]\n",
            "[5.2299999999999995]\n",
            "[5.2299999999999995, 1]\n"
          ],
          "name": "stdout"
        }
      ]
    }
  ]
}