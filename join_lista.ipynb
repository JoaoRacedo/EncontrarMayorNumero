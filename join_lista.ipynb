{
  "nbformat": 4,
  "nbformat_minor": 0,
  "metadata": {
    "colab": {
      "name": "join_lista.ipynb",
      "provenance": [],
      "authorship_tag": "ABX9TyPbSh1iP/ZSb/dBUEZOVb8l"
    },
    "kernelspec": {
      "name": "python3",
      "display_name": "Python 3"
    },
    "language_info": {
      "name": "python"
    }
  },
  "cells": [
    {
      "cell_type": "code",
      "metadata": {
        "colab": {
          "base_uri": "https://localhost:8080/"
        },
        "id": "bGuspKjYkcgD",
        "outputId": "9e74f344-f91a-45ae-e834-363f54ff16b2"
      },
      "source": [
        "# lista = [valor 0, valor 1, ..., valor n-1]\n",
        "# index = [   0   ,    1   , ...,    n-1   ]\n",
        "# index = 1 \n",
        "# lista[index] -> valor 1 \n",
        "lista = [5.08,4.41,4.03]\n",
        "lista1 = [\"5.08\",\"4.41\",\"4.03\"]\n",
        "texto = \"hola como esta\".split(sep=\" \")\n",
        "#print(len(lista), texto)\n",
        "x = \" \".join(lista1)\n",
        "print(x)\n",
        "x = \"\"\n",
        "for i in range(len(lista)):\n",
        "    x = x + str(lista[i])+\" \"\n",
        "print(x)\n",
        "print(\" \".join(\"{:.2f}\".format(element) for element in lista))\n",
        "print(lista)"
      ],
      "execution_count": 1,
      "outputs": [
        {
          "output_type": "stream",
          "text": [
            "5.08 4.41 4.03\n",
            "5.08 4.41 4.03 \n",
            "5.08 4.41 4.03\n",
            "[5.08, 4.41, 4.03]\n"
          ],
          "name": "stdout"
        }
      ]
    }
  ]
}