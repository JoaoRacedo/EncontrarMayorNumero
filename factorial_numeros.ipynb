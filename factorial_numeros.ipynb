{
  "nbformat": 4,
  "nbformat_minor": 0,
  "metadata": {
    "colab": {
      "name": "factorial_numeros.ipynb",
      "provenance": [],
      "collapsed_sections": [],
      "authorship_tag": "ABX9TyNquvSZeWrDB8lXAtq+sdPa"
    },
    "kernelspec": {
      "name": "python3",
      "display_name": "Python 3"
    },
    "language_info": {
      "name": "python"
    }
  },
  "cells": [
    {
      "cell_type": "code",
      "metadata": {
        "colab": {
          "base_uri": "https://localhost:8080/"
        },
        "id": "WGXxgXXhpYaC",
        "outputId": "6fe22f35-5a0e-4757-8c38-3516faf4b70a"
      },
      "source": [
        "variable = False\n",
        "while (variable == False):\n",
        "    numero = int(input(\"Digite numero \"))\n",
        "    if (numero == -1):\n",
        "        variable = True\n",
        "    else:\n",
        "        if (numero < -1):\n",
        "            print(\"El numero debe ser positivo\")\n",
        "        else:\n",
        "            fact = 1\n",
        "            for i in range(1,numero+1):\n",
        "                fact = fact*i\n",
        "            print(\"El factorial de\",str(numero)+\"! es\",fact)"
      ],
      "execution_count": 1,
      "outputs": [
        {
          "output_type": "stream",
          "text": [
            "Digite numero 4\n",
            "El factorial de 4! es 24\n",
            "Digite numero -2\n",
            "El numero debe ser positivo\n",
            "Digite numero -1\n"
          ],
          "name": "stdout"
        }
      ]
    }
  ]
}