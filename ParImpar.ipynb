{
  "nbformat": 4,
  "nbformat_minor": 0,
  "metadata": {
    "colab": {
      "name": "ParImpar.ipynb",
      "provenance": [],
      "collapsed_sections": [],
      "authorship_tag": "ABX9TyOzR9FNs+v38ylI0jM1dZKE"
    },
    "kernelspec": {
      "name": "python3",
      "display_name": "Python 3"
    },
    "language_info": {
      "name": "python"
    }
  },
  "cells": [
    {
      "cell_type": "code",
      "metadata": {
        "colab": {
          "base_uri": "https://localhost:8080/"
        },
        "id": "drj8Kt_csM67",
        "outputId": "296cd8ba-6ebc-41b2-8428-82fe3403f1d5"
      },
      "source": [
        "import random\n",
        "\n",
        "def numAleatorio():\n",
        "    numero = random.randint(100,130)\n",
        "    while numero == 110 or numero == 115 or numero == 120:\n",
        "        numero = random.randint(100,130)\n",
        "    return numero\n",
        "\n",
        "def numeros():\n",
        "    i = 0\n",
        "    while i < 10:\n",
        "        numero_aleatorio = numAleatorio()\n",
        "        if numero_aleatorio % 2 == 0 and i % 2 == 0:\n",
        "            print(\"{} - {}\".format(i,numero_aleatorio))\n",
        "            #print(f\"{i} - {numero_aleatorio}\")\n",
        "            i = i + 1\n",
        "        elif numero_aleatorio % 2 != 0 and i % 2 != 0:\n",
        "            print(\"{} - {}\".format(i,numero_aleatorio))\n",
        "            i = i + 1\n",
        "\n",
        "if __name__ == \"__main__\":\n",
        "    numeros()"
      ],
      "execution_count": 1,
      "outputs": [
        {
          "output_type": "stream",
          "text": [
            "0 - 122\n",
            "1 - 129\n",
            "2 - 130\n",
            "3 - 125\n",
            "4 - 104\n",
            "5 - 121\n",
            "6 - 126\n",
            "7 - 123\n",
            "8 - 102\n",
            "9 - 105\n"
          ],
          "name": "stdout"
        }
      ]
    }
  ]
}