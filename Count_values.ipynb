{
  "nbformat": 4,
  "nbformat_minor": 0,
  "metadata": {
    "colab": {
      "name": "Count_values.ipynb",
      "provenance": [],
      "authorship_tag": "ABX9TyPfR/eg6793j3+zPUNZqhDH"
    },
    "kernelspec": {
      "name": "python3",
      "display_name": "Python 3"
    },
    "language_info": {
      "name": "python"
    }
  },
  "cells": [
    {
      "cell_type": "code",
      "metadata": {
        "colab": {
          "base_uri": "https://localhost:8080/"
        },
        "id": "eKbpoohNZxhc",
        "outputId": "19360394-f17f-47c5-9b49-aca85bbfed57"
      },
      "source": [
        "lista_valor = ['Marginal','Sumamente','No','Moderadamente']\n",
        "\n",
        "respuesta = [['1','2','1','3'],['2,','2','2','2'],['3','1','1','2'],['2','1','3','3']]\n",
        "lista = []\n",
        "for i in range(len(respuesta)):\n",
        "    r1 = respuesta[i].count('1')\n",
        "    r2 = respuesta[i].count('2')\n",
        "    r3 = respuesta[i].count('3')\n",
        "    lista.append([r1,r2,r3])\n",
        "print(lista)\n",
        "for i in range(len(lista)):\n",
        "    max_value = max(lista[i])\n",
        "    max_pos = lista[i].index(max_value)\n",
        "    suc = lista_valor[max_pos]\n",
        "    print(max_value, max_pos, suc)"
      ],
      "execution_count": 1,
      "outputs": [
        {
          "output_type": "stream",
          "text": [
            "[[2, 1, 1], [0, 3, 0], [2, 1, 1], [1, 1, 2]]\n",
            "2 0 Marginal\n",
            "3 1 Sumamente\n",
            "2 0 Marginal\n",
            "2 2 No\n"
          ],
          "name": "stdout"
        }
      ]
    }
  ]
}