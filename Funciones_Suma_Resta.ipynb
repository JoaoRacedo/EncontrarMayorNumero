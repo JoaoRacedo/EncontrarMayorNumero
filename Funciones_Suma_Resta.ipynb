{
  "nbformat": 4,
  "nbformat_minor": 0,
  "metadata": {
    "colab": {
      "name": "Funciones_Suma_Resta.ipynb",
      "provenance": [],
      "authorship_tag": "ABX9TyNRXUifN54i8MpfQycJjAUA"
    },
    "kernelspec": {
      "name": "python3",
      "display_name": "Python 3"
    },
    "language_info": {
      "name": "python"
    }
  },
  "cells": [
    {
      "cell_type": "code",
      "metadata": {
        "id": "jne0gFdfbh-j",
        "outputId": "1d35153f-2561-4eb4-d753-9c9300c3e07f",
        "colab": {
          "base_uri": "https://localhost:8080/"
        }
      },
      "source": [
        "def function1(resultado,opera):\n",
        "    if (opera == 1):\n",
        "        print(\"El resultado de la suma es\",resultado)\n",
        "    else:\n",
        "        print(\"El resultado de la resta es\",resultado)\n",
        "\n",
        "def function2(a,b):\n",
        "    return a+b,a-b\n",
        "    \n",
        "\n",
        "valor1 = 5\n",
        "valor2 = 10\n",
        "res1,res2 = function2(valor1,valor2)\n",
        "function1(res1,1)\n",
        "function1(res2,2)"
      ],
      "execution_count": 1,
      "outputs": [
        {
          "output_type": "stream",
          "text": [
            "El resultado de la suma es 15\n",
            "El resultado de la resta es -5\n"
          ],
          "name": "stdout"
        }
      ]
    }
  ]
}