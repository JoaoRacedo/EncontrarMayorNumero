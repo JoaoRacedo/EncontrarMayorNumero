{
  "nbformat": 4,
  "nbformat_minor": 0,
  "metadata": {
    "colab": {
      "name": "Formato_fecha.ipynb",
      "provenance": [],
      "collapsed_sections": [],
      "authorship_tag": "ABX9TyNSYG+QEtnxC/FdjV7xzs3R"
    },
    "kernelspec": {
      "name": "python3",
      "display_name": "Python 3"
    },
    "language_info": {
      "name": "python"
    }
  },
  "cells": [
    {
      "cell_type": "code",
      "metadata": {
        "id": "UqfCesGmAhpz"
      },
      "source": [
        "\n",
        "# lista = [2.2,3,\"P1\",[1,2,3]]\n",
        "# indice =  0 ,1, 2  , 3\n",
        "# indice = 1\n",
        "# lista[indice] -> 3\n",
        "# lista = [2.2,3,3.1,2.2]\n",
        "# print(lista)\n",
        "# print(sum(lista), len(lista))\n",
        "# lista.append(4)\n",
        "# print(lista)\n",
        "# n,m = input(\"Digite primer y segundo valor \").split()\n",
        "# n = int(n)\n",
        "# m = int(m)\n",
        "# Matrix = [[0 for i in range(m)] for j in range(n)]\n",
        "# print(Matrix)\n",
        "# entrada = input()\n",
        "# for i in entrada:\n",
        "#     if i == \" \":\n",
        "#         print(\"Encontre un espacio vacio\")\n",
        "\n",
        "#dd/mm/aaaa\n",
        "def isDia(dia):\n",
        "    val_dia = False\n",
        "    if dia in range(1,32):\n",
        "        val_dia = True\n",
        "    return val_dia\n",
        "\n",
        "def isMes(mes):\n",
        "    val_mes = False\n",
        "    if mes in range(1,13):\n",
        "        val_mes = True\n",
        "    return val_mes\n",
        "\n",
        "def tam_formato(fecha):\n",
        "    val_fecha = False\n",
        "    if ((len(fecha[0]) == 2) and (len(fecha[1]) == 2) and (len(fecha[2]) == 4)):\n",
        "        val_fecha = True\n",
        "    return val_fecha\n",
        "\n",
        "validacion = False\n",
        "while validacion == False:\n",
        "    fecha = input().split(\"/\")\n",
        "    print(fecha)\n",
        "    dia = int(fecha[0])\n",
        "    mes = int(fecha[1])\n",
        "    year = int(fecha[2])\n",
        "\n",
        "    if ((isDia(dia) == True) and (isMes(mes) == True) and (tam_formato(fecha) == True)):\n",
        "        validacion = True\n",
        "    else:\n",
        "        print(\"El formato tiene un error\")\n"
      ],
      "execution_count": null,
      "outputs": []
    }
  ]
}