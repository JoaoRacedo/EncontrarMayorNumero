{
  "nbformat": 4,
  "nbformat_minor": 0,
  "metadata": {
    "colab": {
      "name": "ejercico2_dividir_palabra.ipynb",
      "provenance": [],
      "authorship_tag": "ABX9TyMFpaNsI6aevXUSRszcGGNt"
    },
    "kernelspec": {
      "name": "python3",
      "display_name": "Python 3"
    },
    "language_info": {
      "name": "python"
    }
  },
  "cells": [
    {
      "cell_type": "code",
      "metadata": {
        "colab": {
          "base_uri": "https://localhost:8080/"
        },
        "id": "oXgVBWTxMb4d",
        "outputId": "0231a36d-20dc-4d38-fb53-8edf91a7b519"
      },
      "source": [
        "import string \n",
        "texto = input(\"Digite palabra: \").lower()\n",
        "contador_vocales = 0\n",
        "contador_cons = 0\n",
        "contador_especial = 0\n",
        "for i in texto:\n",
        "    if (i.isalpha() == True):\n",
        "        if (i == \"a\" or i == \"A\"):\n",
        "            contador_vocales += 1\n",
        "        elif (i == \"e\" or i == \"E\"):\n",
        "            contador_vocales += 1\n",
        "        elif (i == \"i\" or i == \"I\"):\n",
        "            contador_vocales += 1\n",
        "        elif (i == \"o\" or i == \"O\"):\n",
        "            contador_vocales += 1\n",
        "        elif (i == \"u\" or i == \"U\"):\n",
        "            contador_vocales += 1\n",
        "        else:\n",
        "            contador_cons += 1\n",
        "    else:\n",
        "        if (i in string.punctuation):\n",
        "            contador_especial += 1\n",
        "\n",
        "print(\"Las vocales encontradas son\",contador_vocales)\n",
        "print(\"Las cons encontradas son\",contador_cons)\n",
        "print(\"Los caracteres especiales encontrados son\",contador_especial)"
      ],
      "execution_count": 1,
      "outputs": [
        {
          "output_type": "stream",
          "text": [
            "Digite palabra: h~ola\n",
            "Las vocales encontradas son 2\n",
            "Las cons encontradas son 2\n",
            "Los caracteres especiales encontrados son 1\n"
          ],
          "name": "stdout"
        }
      ]
    }
  ]
}